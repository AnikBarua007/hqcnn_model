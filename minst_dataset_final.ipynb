{
  "cells": [
    {
      "cell_type": "markdown",
      "metadata": {
        "id": "view-in-github",
        "colab_type": "text"
      },
      "source": [
        "<a href=\"https://colab.research.google.com/github/AnikBarua007/hqcnn_model/blob/main/minst_dataset_final.ipynb\" target=\"_parent\"><img src=\"https://colab.research.google.com/assets/colab-badge.svg\" alt=\"Open In Colab\"/></a>"
      ]
    },
    {
      "cell_type": "code",
      "execution_count": 1,
      "metadata": {
        "colab": {
          "base_uri": "https://localhost:8080/"
        },
        "id": "HN8LQJy4zfOs",
        "outputId": "0c77d428-8f4a-42a9-c997-3622e099e012"
      },
      "outputs": [
        {
          "output_type": "stream",
          "name": "stdout",
          "text": [
            "Collecting qiskit\n",
            "  Downloading qiskit-2.1.1-cp39-abi3-manylinux_2_17_x86_64.manylinux2014_x86_64.whl.metadata (12 kB)\n",
            "Collecting qiskit-aer\n",
            "  Downloading qiskit_aer-0.17.1-cp311-cp311-manylinux_2_17_x86_64.manylinux2014_x86_64.whl.metadata (8.3 kB)\n",
            "Requirement already satisfied: imbalanced-learn in /usr/local/lib/python3.11/dist-packages (0.13.0)\n",
            "Requirement already satisfied: scikit-learn in /usr/local/lib/python3.11/dist-packages (1.6.1)\n",
            "Collecting rustworkx>=0.15.0 (from qiskit)\n",
            "  Downloading rustworkx-0.16.0-cp39-abi3-manylinux_2_17_x86_64.manylinux2014_x86_64.whl.metadata (10 kB)\n",
            "Requirement already satisfied: numpy<3,>=1.17 in /usr/local/lib/python3.11/dist-packages (from qiskit) (2.0.2)\n",
            "Requirement already satisfied: scipy>=1.5 in /usr/local/lib/python3.11/dist-packages (from qiskit) (1.16.0)\n",
            "Requirement already satisfied: dill>=0.3 in /usr/local/lib/python3.11/dist-packages (from qiskit) (0.3.7)\n",
            "Collecting stevedore>=3.0.0 (from qiskit)\n",
            "  Downloading stevedore-5.4.1-py3-none-any.whl.metadata (2.3 kB)\n",
            "Requirement already satisfied: typing-extensions in /usr/local/lib/python3.11/dist-packages (from qiskit) (4.14.1)\n",
            "Requirement already satisfied: psutil>=5 in /usr/local/lib/python3.11/dist-packages (from qiskit-aer) (5.9.5)\n",
            "Requirement already satisfied: python-dateutil>=2.8.0 in /usr/local/lib/python3.11/dist-packages (from qiskit-aer) (2.9.0.post0)\n",
            "Requirement already satisfied: sklearn-compat<1,>=0.1 in /usr/local/lib/python3.11/dist-packages (from imbalanced-learn) (0.1.3)\n",
            "Requirement already satisfied: joblib<2,>=1.1.1 in /usr/local/lib/python3.11/dist-packages (from imbalanced-learn) (1.5.1)\n",
            "Requirement already satisfied: threadpoolctl<4,>=2.0.0 in /usr/local/lib/python3.11/dist-packages (from imbalanced-learn) (3.6.0)\n",
            "Requirement already satisfied: six>=1.5 in /usr/local/lib/python3.11/dist-packages (from python-dateutil>=2.8.0->qiskit-aer) (1.17.0)\n",
            "Collecting pbr>=2.0.0 (from stevedore>=3.0.0->qiskit)\n",
            "  Downloading pbr-6.1.1-py2.py3-none-any.whl.metadata (3.4 kB)\n",
            "Requirement already satisfied: setuptools in /usr/local/lib/python3.11/dist-packages (from pbr>=2.0.0->stevedore>=3.0.0->qiskit) (75.2.0)\n",
            "Downloading qiskit-2.1.1-cp39-abi3-manylinux_2_17_x86_64.manylinux2014_x86_64.whl (7.5 MB)\n",
            "\u001b[2K   \u001b[90m━━━━━━━━━━━━━━━━━━━━━━━━━━━━━━━━━━━━━━━━\u001b[0m \u001b[32m7.5/7.5 MB\u001b[0m \u001b[31m53.4 MB/s\u001b[0m eta \u001b[36m0:00:00\u001b[0m\n",
            "\u001b[?25hDownloading qiskit_aer-0.17.1-cp311-cp311-manylinux_2_17_x86_64.manylinux2014_x86_64.whl (12.4 MB)\n",
            "\u001b[2K   \u001b[90m━━━━━━━━━━━━━━━━━━━━━━━━━━━━━━━━━━━━━━━━\u001b[0m \u001b[32m12.4/12.4 MB\u001b[0m \u001b[31m78.4 MB/s\u001b[0m eta \u001b[36m0:00:00\u001b[0m\n",
            "\u001b[?25hDownloading rustworkx-0.16.0-cp39-abi3-manylinux_2_17_x86_64.manylinux2014_x86_64.whl (2.1 MB)\n",
            "\u001b[2K   \u001b[90m━━━━━━━━━━━━━━━━━━━━━━━━━━━━━━━━━━━━━━━━\u001b[0m \u001b[32m2.1/2.1 MB\u001b[0m \u001b[31m64.4 MB/s\u001b[0m eta \u001b[36m0:00:00\u001b[0m\n",
            "\u001b[?25hDownloading stevedore-5.4.1-py3-none-any.whl (49 kB)\n",
            "\u001b[2K   \u001b[90m━━━━━━━━━━━━━━━━━━━━━━━━━━━━━━━━━━━━━━━━\u001b[0m \u001b[32m49.5/49.5 kB\u001b[0m \u001b[31m3.2 MB/s\u001b[0m eta \u001b[36m0:00:00\u001b[0m\n",
            "\u001b[?25hDownloading pbr-6.1.1-py2.py3-none-any.whl (108 kB)\n",
            "\u001b[2K   \u001b[90m━━━━━━━━━━━━━━━━━━━━━━━━━━━━━━━━━━━━━━━━\u001b[0m \u001b[32m109.0/109.0 kB\u001b[0m \u001b[31m7.9 MB/s\u001b[0m eta \u001b[36m0:00:00\u001b[0m\n",
            "\u001b[?25hInstalling collected packages: rustworkx, pbr, stevedore, qiskit, qiskit-aer\n",
            "Successfully installed pbr-6.1.1 qiskit-2.1.1 qiskit-aer-0.17.1 rustworkx-0.16.0 stevedore-5.4.1\n",
            "Collecting pylatexenc\n",
            "  Downloading pylatexenc-2.10.tar.gz (162 kB)\n",
            "\u001b[2K     \u001b[90m━━━━━━━━━━━━━━━━━━━━━━━━━━━━━━━━━━━━━━━\u001b[0m \u001b[32m162.6/162.6 kB\u001b[0m \u001b[31m3.7 MB/s\u001b[0m eta \u001b[36m0:00:00\u001b[0m\n",
            "\u001b[?25h  Preparing metadata (setup.py) ... \u001b[?25l\u001b[?25hdone\n",
            "Building wheels for collected packages: pylatexenc\n",
            "  Building wheel for pylatexenc (setup.py) ... \u001b[?25l\u001b[?25hdone\n",
            "  Created wheel for pylatexenc: filename=pylatexenc-2.10-py3-none-any.whl size=136817 sha256=2c3f0aa1f7c6b8f641f3ddb280f3c400b5ebddc81a398a0d8fe1e4552c020e5c\n",
            "  Stored in directory: /root/.cache/pip/wheels/b1/7a/33/9fdd892f784ed4afda62b685ae3703adf4c91aa0f524c28f03\n",
            "Successfully built pylatexenc\n",
            "Installing collected packages: pylatexenc\n",
            "Successfully installed pylatexenc-2.10\n"
          ]
        }
      ],
      "source": [
        "!pip install qiskit qiskit-aer imbalanced-learn scikit-learn\n",
        "!pip install pylatexenc"
      ]
    },
    {
      "cell_type": "code",
      "execution_count": 2,
      "metadata": {
        "colab": {
          "base_uri": "https://localhost:8080/"
        },
        "id": "Hnlsg7tEoumY",
        "outputId": "e594ba39-d6b9-4157-e48d-853f3b7aae02"
      },
      "outputs": [
        {
          "output_type": "stream",
          "name": "stdout",
          "text": [
            "Requirement already satisfied: qiskit in /usr/local/lib/python3.11/dist-packages (2.1.1)\n",
            "Requirement already satisfied: qiskit-aer in /usr/local/lib/python3.11/dist-packages (0.17.1)\n",
            "Requirement already satisfied: rustworkx>=0.15.0 in /usr/local/lib/python3.11/dist-packages (from qiskit) (0.16.0)\n",
            "Requirement already satisfied: numpy<3,>=1.17 in /usr/local/lib/python3.11/dist-packages (from qiskit) (2.0.2)\n",
            "Requirement already satisfied: scipy>=1.5 in /usr/local/lib/python3.11/dist-packages (from qiskit) (1.16.0)\n",
            "Requirement already satisfied: dill>=0.3 in /usr/local/lib/python3.11/dist-packages (from qiskit) (0.3.7)\n",
            "Requirement already satisfied: stevedore>=3.0.0 in /usr/local/lib/python3.11/dist-packages (from qiskit) (5.4.1)\n",
            "Requirement already satisfied: typing-extensions in /usr/local/lib/python3.11/dist-packages (from qiskit) (4.14.1)\n",
            "Requirement already satisfied: psutil>=5 in /usr/local/lib/python3.11/dist-packages (from qiskit-aer) (5.9.5)\n",
            "Requirement already satisfied: python-dateutil>=2.8.0 in /usr/local/lib/python3.11/dist-packages (from qiskit-aer) (2.9.0.post0)\n",
            "Requirement already satisfied: six>=1.5 in /usr/local/lib/python3.11/dist-packages (from python-dateutil>=2.8.0->qiskit-aer) (1.17.0)\n",
            "Requirement already satisfied: pbr>=2.0.0 in /usr/local/lib/python3.11/dist-packages (from stevedore>=3.0.0->qiskit) (6.1.1)\n",
            "Requirement already satisfied: setuptools in /usr/local/lib/python3.11/dist-packages (from pbr>=2.0.0->stevedore>=3.0.0->qiskit) (75.2.0)\n"
          ]
        }
      ],
      "source": [
        "!pip install qiskit qiskit-aer"
      ]
    },
    {
      "cell_type": "code",
      "execution_count": 3,
      "metadata": {
        "id": "xfvzs7QSjfJF"
      },
      "outputs": [],
      "source": [
        "import numpy as np\n",
        "from IPython.display import Image\n",
        "import matplotlib.pyplot as plt\n"
      ]
    },
    {
      "cell_type": "code",
      "execution_count": 3,
      "metadata": {
        "id": "6ZLN2OkF8CrO"
      },
      "outputs": [],
      "source": []
    },
    {
      "cell_type": "markdown",
      "metadata": {
        "id": "5aPjLAqDkTHJ"
      },
      "source": []
    },
    {
      "cell_type": "code",
      "execution_count": 4,
      "metadata": {
        "id": "X0dFA9OkkRE2"
      },
      "outputs": [],
      "source": [
        "import os\n",
        "import pandas as pd\n",
        "import numpy as np\n",
        "import matplotlib.pyplot as plt\n",
        "from sklearn.model_selection import train_test_split\n",
        "from tensorflow.keras.preprocessing.image import load_img, img_to_array\n",
        "import torch\n",
        "import torch.nn as nn\n",
        "import torch.nn.functional as F\n",
        "import torch.optim as optim\n",
        "from torch.utils.data import DataLoader, TensorDataset\n",
        "from torch.autograd import Function\n",
        "from qiskit import QuantumCircuit, transpile\n",
        "from qiskit.circuit import Parameter\n",
        "from qiskit_aer import AerSimulator, Aer\n",
        "from imblearn.over_sampling import ADASYN\n",
        "from google.colab import drive\n",
        "from sklearn.metrics import f1_score, precision_score, recall_score, roc_auc_score, classification_report\n"
      ]
    },
    {
      "cell_type": "markdown",
      "metadata": {
        "id": "8DRHRtl0pNC8"
      },
      "source": []
    },
    {
      "cell_type": "code",
      "execution_count": 5,
      "metadata": {
        "id": "fH4OklWspN_i",
        "colab": {
          "base_uri": "https://localhost:8080/",
          "height": 195
        },
        "outputId": "dfcfa88e-f2d4-439e-a2e0-02fcede55968"
      },
      "outputs": [
        {
          "output_type": "stream",
          "name": "stdout",
          "text": [
            "Expected value for rotation pi 0.5400000214576721\n",
            "Counts: {'1': 100}\n"
          ]
        },
        {
          "output_type": "execute_result",
          "data": {
            "text/plain": [
              "<Figure size 397.421x160.533 with 1 Axes>"
            ],
            "image/png": "[encoded data removed]"
          },
          "metadata": {},
          "execution_count": 5
        }
      ],
      "source": [
        "\n",
        "import matplotlib.pyplot as plt\n",
        "from qiskit import QuantumCircuit, transpile\n",
        "from qiskit.circuit import Parameter\n",
        "from qiskit_aer import AerSimulator, Aer\n",
        "\n",
        "class MyQuantumCircuit:\n",
        "    def __init__(self, n_qubits, backend, shots):\n",
        "        self.n_qubits = n_qubits\n",
        "        self.backend = backend\n",
        "        self.shots = shots\n",
        "        all_qubits = [i for i in range(n_qubits)]\n",
        "        self.circuit = QuantumCircuit(n_qubits)\n",
        "        self.theta = Parameter(\"theta\")\n",
        "        self.circuit.h(all_qubits)\n",
        "        self.circuit.ry(self.theta, all_qubits)\n",
        "        self.circuit.measure_all()\n",
        "\n",
        "    def run(self, theta):\n",
        "     if isinstance(theta, (list, np.ndarray)):\n",
        "        theta = theta[0]\n",
        "\n",
        "     circuit = QuantumCircuit(self.n_qubits)\n",
        "     circuit.h(0)\n",
        "     circuit.ry(theta, 0)\n",
        "     circuit.measure_all()\n",
        "\n",
        "     transpiled_circuit = transpile(circuit, self.backend)\n",
        "     job = self.backend.run(transpiled_circuit, shots=self.shots)\n",
        "     result = job.result()\n",
        "     counts = result.get_counts()\n",
        "\n",
        "     counts_array = np.array(list(counts.values()))\n",
        "     states_array = np.array([int(state, 2) for state in counts.keys()])\n",
        "     probabilities = counts_array / self.shots\n",
        "     expectation = np.sum(states_array * probabilities)\n",
        "\n",
        "     return np.array([expectation], dtype=np.float32)  # ensure consistent dtype\n",
        "\n",
        "\n",
        "    def draw_circuit(self, theta):\n",
        "        circuit = QuantumCircuit(self.n_qubits)\n",
        "        circuit.h(0)\n",
        "        circuit.ry(theta, 0)\n",
        "        circuit.measure_all()\n",
        "        transpiled_circuit = transpile(circuit, AerSimulator())\n",
        "\n",
        "        job = AerSimulator().run(transpiled_circuit, shots=100)\n",
        "        result = job.result()\n",
        "        counts = result.get_counts(transpiled_circuit)\n",
        "        print(\"Counts:\", counts)\n",
        "\n",
        "        figure = circuit.draw(output='mpl', scale=0.8)\n",
        "        plt.show()\n",
        "        return figure\n",
        "\n",
        "quantum_circuit = MyQuantumCircuit(1, AerSimulator(), 100)\n",
        "print( 'Expected value for rotation pi {}'.format(quantum_circuit.run([np.pi])[0]))\n",
        "quantum_circuit.draw_circuit(np.pi / 2)"
      ]
    },
    {
      "cell_type": "markdown",
      "metadata": {
        "id": "gxXoIDyvp8VH"
      },
      "source": []
    },
    {
      "cell_type": "code",
      "execution_count": 6,
      "metadata": {
        "id": "GzPIBpVL1Ici"
      },
      "outputs": [],
      "source": [
        "class HybridFunction(Function):\n",
        "    @staticmethod\n",
        "    def forward(ctx, input, quantum_circuit, shift):\n",
        "        ctx.shift = shift\n",
        "        ctx.quantum_circuit = quantum_circuit\n",
        "        expectation_z = []\n",
        "\n",
        "        for sample in input:\n",
        "            # Run quantum circuit for each input\n",
        "            expectation_z.append(ctx.quantum_circuit.run([sample.item()]))\n",
        "\n",
        "        result = torch.tensor(expectation_z, dtype=torch.float32)\n",
        "        ctx.save_for_backward(input, result)\n",
        "        return result\n",
        "\n",
        "    @staticmethod\n",
        "    def backward(ctx, grad_output):\n",
        "      input, _ = ctx.saved_tensors\n",
        "      # expectationas z\n",
        "      input_list = input.tolist()  # This is a list of lists, like [[0.123], [0.456]]\n",
        "\n",
        "      gradients = []\n",
        "      for i in range(len(input_list)):\n",
        "        param = input_list[i][0]  # Unwrap the float from the inner list\n",
        "        shift_right = [param + ctx.shift]\n",
        "        shift_left = [param - ctx.shift]\n",
        "        expectation_right = ctx.quantum_circuit.run(shift_right)\n",
        "        expectation_left = ctx.quantum_circuit.run(shift_left)\n",
        "        gradient = (expectation_right - expectation_left) / (2 * ctx.shift)\n",
        "        gradients.append(gradient)\n",
        "\n",
        "      gradients = torch.tensor(gradients, dtype=torch.float32).view_as(input)\n",
        "      return gradients * grad_output, None, None"
      ]
    },
    {
      "cell_type": "code",
      "execution_count": 7,
      "metadata": {
        "id": "9F28ip225Gc8"
      },
      "outputs": [],
      "source": [
        "class Hybrid(nn.Module):\n",
        "    def __init__(self, backend, shots, shift):\n",
        "        super(Hybrid, self).__init__()\n",
        "        self.quantum_circuit = MyQuantumCircuit(1, backend, shots)\n",
        "        self.shift = shift\n",
        "\n",
        "    def forward(self, input):\n",
        "        return HybridFunction.apply(input, self.quantum_circuit, self.shift)\n"
      ]
    },
    {
      "cell_type": "code",
      "execution_count": 8,
      "metadata": {
        "id": "mn3uwQSS6h_6"
      },
      "outputs": [],
      "source": [
        "from torchvision import datasets, transforms"
      ]
    },
    {
      "cell_type": "code",
      "execution_count": 9,
      "metadata": {
        "id": "2fswMLyu5ZXD",
        "outputId": "22148bc8-4e85-4cf9-e341-6cf82085f4b2",
        "colab": {
          "base_uri": "https://localhost:8080/"
        }
      },
      "outputs": [
        {
          "output_type": "stream",
          "name": "stderr",
          "text": [
            "100%|██████████| 9.91M/9.91M [00:00<00:00, 33.0MB/s]\n",
            "100%|██████████| 28.9k/28.9k [00:00<00:00, 1.06MB/s]\n",
            "100%|██████████| 1.65M/1.65M [00:00<00:00, 9.59MB/s]\n",
            "100%|██████████| 4.54k/4.54k [00:00<00:00, 5.02MB/s]\n"
          ]
        }
      ],
      "source": [
        "# Concentrating on the first 100 samples\n",
        "n_samples = 100\n",
        "X_train = datasets.MNIST(root='./data',train=True,download=True,transform=transforms.Compose([transforms.ToTensor()]))\n",
        "# Leaving only labels 0 and 1\n",
        "idx = np.append(np.where(X_train.targets ==0)[0][:n_samples],np.where(X_train.targets ==1)[0][:n_samples])\n",
        "X_train.data = X_train.data[idx]\n",
        "X_train.targets = X_train.targets[idx]\n",
        "train_loader = torch.utils.data.DataLoader(X_train, batch_size=1, shuffle=True)"
      ]
    },
    {
      "cell_type": "code",
      "execution_count": 10,
      "metadata": {
        "colab": {
          "base_uri": "https://localhost:8080/",
          "height": 170
        },
        "id": "Ist6OBMN70CF",
        "outputId": "d7c19de3-253b-4cfa-fc1d-13b887ed6d56"
      },
      "outputs": [
        {
          "output_type": "display_data",
          "data": {
            "text/plain": [
              "<Figure size 1000x300 with 6 Axes>"
            ],
            "image/png": "[encoded data removed]"
          },
          "metadata": {}
        }
      ],
      "source": [
        "n_samples_show = 6\n",
        "data_iter = iter(train_loader)\n",
        "fig,axes=plt.subplots(nrows=1, ncols=n_samples_show,figsize=(10, 3))\n",
        "while n_samples_show > 0:\n",
        "\n",
        "  images, targets = data_iter.__next__()\n",
        "  axes[n_samples_show - 1].imshow(images[0].numpy().squeeze(), cmap='gray')\n",
        "  axes[n_samples_show -1].set_xticks([])\n",
        "  axes[n_samples_show -1].set_yticks([])\n",
        "  axes[n_samples_show - 1].set_title(\"Labeled:{}\".format(targets.item()))\n",
        "\n",
        "  n_samples_show -= 1"
      ]
    },
    {
      "cell_type": "code",
      "execution_count": 11,
      "metadata": {
        "collapsed": true,
        "id": "Y8HQf2RB8X_L"
      },
      "outputs": [],
      "source": [
        "# Concentrating on the first 100 samples\n",
        "n_samples = 50\n",
        "X_train = datasets.MNIST(root='./data',train=True,download=True,transform=transforms.Compose([transforms.ToTensor()]))\n",
        "# Leaving only labels 0 and 1\n",
        "idx = np.append(np.where(X_train.targets ==0)[0][:n_samples],np.where(X_train.targets ==1)[0][:n_samples])\n",
        "X_train.data = X_train.data[idx]\n",
        "X_train.targets = X_train.targets[idx]\n",
        "train_loader = torch.utils.data.DataLoader(X_train, batch_size=1, shuffle=True)"
      ]
    },
    {
      "cell_type": "code",
      "execution_count": 12,
      "metadata": {
        "collapsed": true,
        "id": "ctzQsFnR8uYi"
      },
      "outputs": [],
      "source": [
        "import qiskit\n",
        "class Net(nn.Module):\n",
        "    def __init__(self):\n",
        "        super(Net, self).__init__()\n",
        "        self.conv1 = nn.Conv2d(1, 6, kernel_size=5)\n",
        "        self.conv2 = nn.Conv2d(6, 16, kernel_size=5)\n",
        "        self.dropout = nn.Dropout2d()\n",
        "        self.fcl = nn.Linear(256, 64)\n",
        "        self.fc2 = nn.Linear(64, 1)\n",
        "        self.hybrid = Hybrid(Aer.get_backend('aer_simulator'), 100, np.pi / 2)\n",
        "\n",
        "    def forward(self, x):\n",
        "        x = F.relu(self.conv1(x))\n",
        "        x = F.max_pool2d(x, 2)\n",
        "        x = F.relu(self.conv2(x))\n",
        "        x = F.max_pool2d(x, 2)\n",
        "        x = self.dropout(x)\n",
        "        x = x.view(x.size(0), -1)\n",
        "        x = F.relu(self.fcl(x))\n",
        "        x = self.fc2(x)\n",
        "        x = self.hybrid(x)  # This must be a callable layer or function\n",
        "        return torch.cat((x, -1 * torch.ones_like(x), -x), -1)\n"
      ]
    },
    {
      "cell_type": "code",
      "execution_count": null,
      "metadata": {
        "colab": {
          "base_uri": "https://localhost:8080/"
        },
        "collapsed": true,
        "id": "oJwWvm3D-NwB",
        "outputId": "f78cec7a-6248-40be-d225-551d7a1bf491"
      },
      "outputs": [
        {
          "output_type": "stream",
          "name": "stderr",
          "text": [
            "/tmp/ipython-input-6-2332266583.py:12: UserWarning: Creating a tensor from a list of numpy.ndarrays is extremely slow. Please consider converting the list to a single numpy.ndarray with numpy.array() before converting to a tensor. (Triggered internally at /pytorch/torch/csrc/utils/tensor_new.cpp:254.)\n",
            "  result = torch.tensor(expectation_z, dtype=torch.float32)\n"
          ]
        }
      ],
      "source": [
        "model = Net()\n",
        "optimizer = optim.Adam(model.parameters(),lr=0.001)\n",
        "loss_func = nn.NLLLoss()\n",
        "epochs = 20\n",
        "loss_list = []\n",
        "model.train()\n",
        "for epoch in range(epochs):\n",
        "  total_loss =[]\n",
        "  for batch_idx, (data, target) in enumerate(train_loader):\n",
        "    optimizer.zero_grad()\n",
        "    # Forward pass\n",
        "    output = model(data)\n",
        "    # Calculating loss\n",
        "    loss = loss_func(output,target)\n",
        "     # Backward pass\n",
        "    loss.backward()\n",
        "    # Optimize the weights\n",
        "    optimizer.step()\n",
        "    total_loss.append(loss.item())\n",
        "  loss_list.append(sum(total_loss)/len(total_loss))\n",
        "  print('Training [{:.0f}%]\\tLoss:{:.4f}'.format(100. * (epoch + 1) / epochs, loss_list[-1]))"
      ]
    },
    {
      "cell_type": "code",
      "execution_count": null,
      "metadata": {
        "id": "766qfIH4yboD"
      },
      "outputs": [],
      "source": [
        "plt.plot(loss_list)\n",
        "plt.title('Hybrid NN Training Convergence')\n",
        "plt.xlabel('Training Iterations')\n",
        "plt.ylabel('Neg Log Likelihood Loss')"
      ]
    },
    {
      "cell_type": "code",
      "execution_count": null,
      "metadata": {
        "id": "BUPWKuUeu19C"
      },
      "outputs": [],
      "source": [
        "#test loader\n",
        "n_samples = 50\n",
        "X_test = datasets.MNIST(root='./data', train=False, download=True, transform=transforms.Compose([transforms.ToTensor()]))\n",
        "\n",
        "# Filter for labels 0 and 1\n",
        "idx = np.append(\n",
        "    np.where(X_test.targets == 0)[0][:n_samples],\n",
        "    np.where(X_test.targets == 1)[0][:n_samples]\n",
        ")\n",
        "\n",
        "# Subset the data and targets\n",
        "X_test.data = X_test.data[idx]\n",
        "X_test.targets = X_test.targets[idx]\n",
        "\n",
        "# Create DataLoader\n",
        "test_loader = torch.utils.data.DataLoader(X_test, batch_size=1, shuffle=True)"
      ]
    },
    {
      "cell_type": "code",
      "execution_count": null,
      "metadata": {
        "id": "6C8sB31symio"
      },
      "outputs": [],
      "source": [
        "model.eval()\n",
        "total_loss = []  # Initialize total_loss before the loop\n",
        "\n",
        "with torch.no_grad():\n",
        "    correct = 0\n",
        "\n",
        "    for batch_idx, (data, target) in enumerate(test_loader):\n",
        "        output = model(data)\n",
        "        pred = output.argmax(dim=1, keepdim=True)\n",
        "        correct += pred.eq(target.view_as(pred)).sum().item()\n",
        "\n",
        "        loss = loss_func(output, target)\n",
        "        total_loss.append(loss.item())\n",
        "\n",
        "    avg_loss = sum(total_loss) / len(total_loss)\n",
        "    accuracy = correct / len(test_loader) * 100\n",
        "\n",
        "    print('Performance on test data:\\n\\tLoss: {:.4f}\\n\\tAccuracy: {:.1f}%'.format(avg_loss, accuracy))\n"
      ]
    },
    {
      "cell_type": "code",
      "execution_count": null,
      "metadata": {
        "id": "HfVkSJoUyqs5"
      },
      "outputs": [],
      "source": [
        "n_samples_show = 6\n",
        "count = 0\n",
        "fig,axes = plt.subplots(nrows=1,ncols=n_samples_show,figsize=(10,3))\n",
        "model.eval()\n",
        "with torch.no_grad():\n",
        "  for batch_idx, (data, target) in enumerate(test_loader):\n",
        "    if count == n_samples_show:\n",
        "      break\n",
        "  output = model(data)\n",
        "  pred = output.argmax(dim=1,\n",
        "  keepdim=True)\n",
        "  axes[count].imshow(data[0].numpy().squeeze(), cmap='gray')\n",
        "  axes[count].set_xticks([])\n",
        "  axes[count].set_yticks([])\n",
        "  axes[count].set_title('Predicted {}'.format(pred.item()))\n",
        "  count += 1"
      ]
    },
    {
      "cell_type": "code",
      "execution_count": null,
      "metadata": {
        "id": "vHq9GDH4ytiF"
      },
      "outputs": [],
      "source": []
    }
  ],
  "metadata": {
    "colab": {
      "provenance": [],
      "include_colab_link": true
    },
    "kernelspec": {
      "display_name": "Python 3",
      "name": "python3"
    },
    "language_info": {
      "name": "python"
    }
  },
  "nbformat": 4,
  "nbformat_minor": 0
}