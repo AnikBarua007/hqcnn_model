{
  "cells": [
    {
      "cell_type": "markdown",
      "metadata": {
        "colab_type": "text",
        "id": "view-in-github"
      },
      "source": [
        "<a href=\"https://colab.research.google.com/github/AnikBarua007/hqcnn_model/blob/main/HQCNN_ANIK.ipynb\" target=\"_parent\"><img src=\"https://colab.research.google.com/assets/colab-badge.svg\" alt=\"Open In Colab\"/></a>\n"
      ]
    },
    {
      "cell_type": "code",
      "execution_count": 2,
      "metadata": {
        "colab": {
          "base_uri": "https://localhost:8080/"
        },
        "id": "HN8LQJy4zfOs",
        "outputId": "d55ef1cc-3d57-4f9f-ca61-b5a2b25cec6e"
      },
      "outputs": [
        {
          "name": "stdout",
          "output_type": "stream",
          "text": [
            "Requirement already satisfied: qiskit in c:\\users\\anika\\anaconda3\\lib\\site-packages (2.1.0)\n",
            "Requirement already satisfied: qiskit-aer in c:\\users\\anika\\anaconda3\\lib\\site-packages (0.17.1)\n",
            "Requirement already satisfied: imbalanced-learn in c:\\users\\anika\\anaconda3\\lib\\site-packages (0.12.3)\n",
            "Requirement already satisfied: scikit-learn in c:\\users\\anika\\anaconda3\\lib\\site-packages (1.5.1)\n",
            "Requirement already satisfied: rustworkx>=0.15.0 in c:\\users\\anika\\anaconda3\\lib\\site-packages (from qiskit) (0.16.0)\n",
            "Requirement already satisfied: numpy<3,>=1.17 in c:\\users\\anika\\anaconda3\\lib\\site-packages (from qiskit) (1.26.4)\n",
            "Requirement already satisfied: scipy>=1.5 in c:\\users\\anika\\anaconda3\\lib\\site-packages (from qiskit) (1.13.1)\n",
            "Requirement already satisfied: dill>=0.3 in c:\\users\\anika\\anaconda3\\lib\\site-packages (from qiskit) (0.3.8)\n",
            "Requirement already satisfied: stevedore>=3.0.0 in c:\\users\\anika\\anaconda3\\lib\\site-packages (from qiskit) (5.4.1)\n",
            "Requirement already satisfied: typing-extensions in c:\\users\\anika\\anaconda3\\lib\\site-packages (from qiskit) (4.11.0)\n",
            "Requirement already satisfied: psutil>=5 in c:\\users\\anika\\anaconda3\\lib\\site-packages (from qiskit-aer) (5.9.0)\n",
            "Requirement already satisfied: python-dateutil>=2.8.0 in c:\\users\\anika\\anaconda3\\lib\\site-packages (from qiskit-aer) (2.9.0.post0)\n",
            "Requirement already satisfied: joblib>=1.1.1 in c:\\users\\anika\\anaconda3\\lib\\site-packages (from imbalanced-learn) (1.4.2)\n",
            "Requirement already satisfied: threadpoolctl>=2.0.0 in c:\\users\\anika\\anaconda3\\lib\\site-packages (from imbalanced-learn) (3.5.0)\n",
            "Requirement already satisfied: six>=1.5 in c:\\users\\anika\\anaconda3\\lib\\site-packages (from python-dateutil>=2.8.0->qiskit-aer) (1.16.0)\n",
            "Requirement already satisfied: pbr>=2.0.0 in c:\\users\\anika\\anaconda3\\lib\\site-packages (from stevedore>=3.0.0->qiskit) (6.1.1)\n",
            "Requirement already satisfied: setuptools in c:\\users\\anika\\anaconda3\\lib\\site-packages (from pbr>=2.0.0->stevedore>=3.0.0->qiskit) (75.1.0)\n",
            "Requirement already satisfied: pylatexenc in c:\\users\\anika\\anaconda3\\lib\\site-packages (2.10)\n",
            "Requirement already satisfied: qiskit in c:\\users\\anika\\anaconda3\\lib\\site-packages (2.1.0)\n",
            "Requirement already satisfied: qiskit-aer in c:\\users\\anika\\anaconda3\\lib\\site-packages (0.17.1)\n",
            "Requirement already satisfied: rustworkx>=0.15.0 in c:\\users\\anika\\anaconda3\\lib\\site-packages (from qiskit) (0.16.0)\n",
            "Requirement already satisfied: numpy<3,>=1.17 in c:\\users\\anika\\anaconda3\\lib\\site-packages (from qiskit) (1.26.4)\n",
            "Requirement already satisfied: scipy>=1.5 in c:\\users\\anika\\anaconda3\\lib\\site-packages (from qiskit) (1.13.1)\n",
            "Requirement already satisfied: dill>=0.3 in c:\\users\\anika\\anaconda3\\lib\\site-packages (from qiskit) (0.3.8)\n",
            "Requirement already satisfied: stevedore>=3.0.0 in c:\\users\\anika\\anaconda3\\lib\\site-packages (from qiskit) (5.4.1)\n",
            "Requirement already satisfied: typing-extensions in c:\\users\\anika\\anaconda3\\lib\\site-packages (from qiskit) (4.11.0)\n",
            "Requirement already satisfied: psutil>=5 in c:\\users\\anika\\anaconda3\\lib\\site-packages (from qiskit-aer) (5.9.0)\n",
            "Requirement already satisfied: python-dateutil>=2.8.0 in c:\\users\\anika\\anaconda3\\lib\\site-packages (from qiskit-aer) (2.9.0.post0)\n",
            "Requirement already satisfied: six>=1.5 in c:\\users\\anika\\anaconda3\\lib\\site-packages (from python-dateutil>=2.8.0->qiskit-aer) (1.16.0)\n",
            "Requirement already satisfied: pbr>=2.0.0 in c:\\users\\anika\\anaconda3\\lib\\site-packages (from stevedore>=3.0.0->qiskit) (6.1.1)\n",
            "Requirement already satisfied: setuptools in c:\\users\\anika\\anaconda3\\lib\\site-packages (from pbr>=2.0.0->stevedore>=3.0.0->qiskit) (75.1.0)\n",
            "Requirement already satisfied: torch in c:\\users\\anika\\anaconda3\\lib\\site-packages (2.7.1)\n",
            "Requirement already satisfied: torchvision in c:\\users\\anika\\anaconda3\\lib\\site-packages (0.22.1)\n",
            "Requirement already satisfied: filelock in c:\\users\\anika\\anaconda3\\lib\\site-packages (from torch) (3.13.1)\n",
            "Requirement already satisfied: typing-extensions>=4.10.0 in c:\\users\\anika\\anaconda3\\lib\\site-packages (from torch) (4.11.0)\n",
            "Requirement already satisfied: sympy>=1.13.3 in c:\\users\\anika\\anaconda3\\lib\\site-packages (from torch) (1.14.0)\n",
            "Requirement already satisfied: networkx in c:\\users\\anika\\anaconda3\\lib\\site-packages (from torch) (3.3)\n",
            "Requirement already satisfied: jinja2 in c:\\users\\anika\\anaconda3\\lib\\site-packages (from torch) (3.1.4)\n",
            "Requirement already satisfied: fsspec in c:\\users\\anika\\anaconda3\\lib\\site-packages (from torch) (2024.6.1)\n",
            "Requirement already satisfied: setuptools in c:\\users\\anika\\anaconda3\\lib\\site-packages (from torch) (75.1.0)\n",
            "Requirement already satisfied: numpy in c:\\users\\anika\\anaconda3\\lib\\site-packages (from torchvision) (1.26.4)\n",
            "Requirement already satisfied: pillow!=8.3.*,>=5.3.0 in c:\\users\\anika\\anaconda3\\lib\\site-packages (from torchvision) (10.4.0)\n",
            "Requirement already satisfied: mpmath<1.4,>=1.1.0 in c:\\users\\anika\\anaconda3\\lib\\site-packages (from sympy>=1.13.3->torch) (1.3.0)\n",
            "Requirement already satisfied: MarkupSafe>=2.0 in c:\\users\\anika\\anaconda3\\lib\\site-packages (from jinja2->torch) (2.1.3)\n"
          ]
        },
        {
          "data": {
            "text/plain": [
              "<torch._C.Generator at 0x2eb06fb9f90>"
            ]
          },
          "execution_count": 2,
          "metadata": {},
          "output_type": "execute_result"
        }
      ],
      "source": [
        "!pip install qiskit qiskit-aer imbalanced-learn scikit-learn\n",
        "!pip install pylatexenc\n",
        "!pip install qiskit qiskit-aer\n",
        "!pip install torch torchvision\n",
        "import numpy as np\n",
        "from IPython.display import Image\n",
        "import matplotlib.pyplot as plt\n",
        "import os\n",
        "import pandas as pd\n",
        "import numpy as np\n",
        "import matplotlib.pyplot as plt\n",
        "from sklearn.model_selection import train_test_split\n",
        "import torch\n",
        "import torch.nn as nn\n",
        "import torch.nn.functional as F\n",
        "import torch.optim as optim\n",
        "from torch.utils.data import DataLoader, TensorDataset\n",
        "from torch.autograd import Function\n",
        "from qiskit import QuantumCircuit, transpile\n",
        "from qiskit.circuit import Parameter\n",
        "from qiskit_aer import AerSimulator, Aer\n",
        "from imblearn.over_sampling import ADASYN\n",
        "from sklearn.metrics import f1_score, precision_score, recall_score, roc_auc_score, classification_report\n",
        "import random\n",
        "random.seed(0)\n",
        "np.random.seed(0)\n",
        "torch.manual_seed(0)"
      ]
    },
    {
      "cell_type": "markdown",
      "metadata": {
        "id": "8DRHRtl0pNC8"
      },
      "source": []
    },
    {
      "cell_type": "code",
      "execution_count": 6,
      "metadata": {
        "colab": {
          "base_uri": "https://localhost:8080/",
          "height": 195
        },
        "id": "fH4OklWspN_i",
        "outputId": "b684a619-eef3-472f-a143-580636e56c16"
      },
      "outputs": [
        {
          "name": "stdout",
          "output_type": "stream",
          "text": [
            "Expected value for rotation pi: 0.14\n",
            "Counts: {'1': 100}\n"
          ]
        },
        {
          "data": {
            "image/png": "[encoded data removed]",
            "text/plain": [
              "<Figure size 397.421x160.533 with 1 Axes>"
            ]
          },
          "execution_count": 6,
          "metadata": {},
          "output_type": "execute_result"
        }
      ],
      "source": [
        "import matplotlib.pyplot as plt\n",
        "from qiskit import QuantumCircuit, transpile\n",
        "from qiskit.circuit import Parameter\n",
        "from qiskit_aer import AerSimulator, Aer\n",
        "import numpy as np\n",
        "\n",
        "class MyQuantumCircuit:\n",
        "    \"\"\"\n",
        "    Simple single-qubit quantum circuit for binary classification.\n",
        "    \"\"\"\n",
        "    def __init__(self, n_qubits, backend, shots):\n",
        "        self.n_qubits = n_qubits\n",
        "        self.backend = backend\n",
        "        self.shots = shots\n",
        "\n",
        "    def run(self, theta):\n",
        "        \"\"\"\n",
        "        Runs the quantum circuit with a given rotation angle theta.\n",
        "        Returns the expectation value of Z for the measured qubit.\n",
        "        \"\"\"\n",
        "        # Accept both float and list/array input\n",
        "        if isinstance(theta, (list, np.ndarray)):\n",
        "            theta = float(theta[0])\n",
        "        else:\n",
        "            theta = float(theta)\n",
        "        circuit = QuantumCircuit(self.n_qubits)\n",
        "        circuit.h(0)\n",
        "        circuit.ry(theta, 0)\n",
        "        circuit.measure_all()\n",
        "        transpiled_circuit = transpile(circuit, self.backend)\n",
        "        job = self.backend.run(transpiled_circuit, shots=self.shots)\n",
        "        result = job.result()\n",
        "        counts = result.get_counts()\n",
        "        # For single qubit: keys are '0' and '1'\n",
        "        prob_0 = counts.get('0', 0) / self.shots\n",
        "        prob_1 = counts.get('1', 0) / self.shots\n",
        "        expectation = prob_0 - prob_1\n",
        "        return np.array([expectation], dtype=np.float32)\n",
        "\n",
        "    def draw_circuit(self, theta):\n",
        "        \"\"\"\n",
        "        Draws the quantum circuit for a given theta.\n",
        "        \"\"\"\n",
        "        if isinstance(theta, (list, np.ndarray)):\n",
        "            theta = float(theta[0])\n",
        "        else:\n",
        "            theta = float(theta)\n",
        "        circuit = QuantumCircuit(self.n_qubits)\n",
        "        circuit.h(0)\n",
        "        circuit.ry(theta, 0)\n",
        "        circuit.measure_all()\n",
        "        transpiled_circuit = transpile(circuit, AerSimulator())\n",
        "        job = AerSimulator().run(transpiled_circuit, shots=100)\n",
        "        result = job.result()\n",
        "        counts = result.get_counts(transpiled_circuit)\n",
        "        print(\"Counts:\", counts)\n",
        "        figure = circuit.draw(output='mpl', scale=0.8)\n",
        "        plt.show()\n",
        "        return figure\n",
        "\n",
        "# Example usage:\n",
        "quantum_circuit = MyQuantumCircuit(1, AerSimulator(), 100)\n",
        "print('Expected value for rotation pi:', quantum_circuit.run([np.pi])[0])\n",
        "quantum_circuit.draw_circuit(np.pi / 2)"
      ]
    },
    {
      "cell_type": "markdown",
      "metadata": {
        "id": "gxXoIDyvp8VH"
      },
      "source": []
    },
    {
      "cell_type": "code",
      "execution_count": 9,
      "metadata": {
        "id": "GzPIBpVL1Ici"
      },
      "outputs": [],
      "source": [
        "class HybridFunction(Function):\n",
        "    @staticmethod\n",
        "    def forward(ctx, input, quantum_circuit, shift):\n",
        "        \"\"\"\n",
        "        Forward pass: runs the quantum circuit for each input sample and returns the expectation value.\n",
        "        \"\"\"\n",
        "        ctx.shift = shift\n",
        "        ctx.quantum_circuit = quantum_circuit\n",
        "        expectation_z = []\n",
        "        # Ensure input is 2D (batch, features)\n",
        "        input_flat = input.view(-1, input.shape[-1]) if input.dim() > 1 else input.view(-1, 1)\n",
        "        for sample in input_flat:\n",
        "            # sample.item() if 1D, else sample[0].item()\n",
        "            theta = sample[0].item() if sample.dim() > 0 else sample.item()\n",
        "            expectation_z.append(ctx.quantum_circuit.run([theta]))\n",
        "        result = torch.tensor(expectation_z, dtype=torch.float32).view_as(input)\n",
        "        ctx.save_for_backward(input, result)\n",
        "        return result\n",
        "\n",
        "    @staticmethod\n",
        "    def backward(ctx, grad_output):\n",
        "        \"\"\"\n",
        "        Backward pass: computes the gradient using the parameter-shift rule.\n",
        "        \"\"\"\n",
        "        input, _ = ctx.saved_tensors\n",
        "        input_flat = input.view(-1, input.shape[-1]) if input.dim() > 1 else input.view(-1, 1)\n",
        "        gradients = []\n",
        "        for sample in input_flat:\n",
        "            theta = sample[0].item() if sample.dim() > 0 else sample.item()\n",
        "            shift_right = [theta + ctx.shift]\n",
        "            shift_left = [theta - ctx.shift]\n",
        "            expectation_right = ctx.quantum_circuit.run(shift_right)\n",
        "            expectation_left = ctx.quantum_circuit.run(shift_left)\n",
        "            gradient = (expectation_right - expectation_left) / (2 * ctx.shift)\n",
        "            gradients.append(gradient)\n",
        "        gradients = torch.tensor(gradients, dtype=torch.float32).view_as(input)\n",
        "        return gradients * grad_output, None, None"
      ]
    },
    {
      "cell_type": "code",
      "execution_count": 10,
      "metadata": {
        "id": "9F28ip225Gc8"
      },
      "outputs": [],
      "source": [
        "class Hybrid(nn.Module):\n",
        "    def __init__(self, backend, shots, shift):\n",
        "        super().__init__()\n",
        "        self.quantum_circuit = MyQuantumCircuit(1, backend, shots)\n",
        "        self.shift = shift\n",
        "\n",
        "    def forward(self, input):\n",
        "        # Ensure input is float32 for quantum circuit compatibility\n",
        "        input = input.float()\n",
        "        return HybridFunction.apply(input, self.quantum_circuit, self.shift)"
      ]
    },
    {
      "cell_type": "code",
      "execution_count": 11,
      "metadata": {
        "id": "mn3uwQSS6h_6"
      },
      "outputs": [],
      "source": [
        "from torchvision import datasets, transforms"
      ]
    },
    {
      "cell_type": "markdown",
      "metadata": {},
      "source": []
    },
    {
      "cell_type": "code",
      "execution_count": 12,
      "metadata": {
        "id": "vHq9GDH4ytiF"
      },
      "outputs": [
        {
          "name": "stderr",
          "output_type": "stream",
          "text": [
            "100%|██████████| 9.91M/9.91M [00:04<00:00, 2.13MB/s]\n",
            "100%|██████████| 28.9k/28.9k [00:00<00:00, 104kB/s]\n",
            "100%|██████████| 1.65M/1.65M [00:04<00:00, 373kB/s]\n",
            "100%|██████████| 4.54k/4.54k [00:00<00:00, 799kB/s]\n"
          ]
        }
      ],
      "source": [
        "# Use a small, balanced dataset for easy overfitting and 100% accuracy\n",
        "n_samples = 10  # per class for quick overfit\n",
        "X_train = datasets.MNIST(\n",
        "    root='./data',\n",
        "    train=True,\n",
        "    download=True,\n",
        "    transform=transforms.Compose([transforms.ToTensor()])\n",
        ")\n",
        "\n",
        "# Filter only labels 0 and 1\n",
        "idx_0 = np.where(X_train.targets == 0)[0][:n_samples]\n",
        "idx_1 = np.where(X_train.targets == 1)[0][:n_samples]\n",
        "idx = np.concatenate([idx_0, idx_1])\n",
        "X_train.data = X_train.data[idx]\n",
        "X_train.targets = X_train.targets[idx]\n",
        "\n",
        "# Ensure targets are only 0 or 1\n",
        "assert set(X_train.targets.numpy()) == {0, 1}\n",
        "\n",
        "train_loader = torch.utils.data.DataLoader(X_train, batch_size=1, shuffle=True)"
      ]
    },
    {
      "cell_type": "code",
      "execution_count": 13,
      "metadata": {},
      "outputs": [
        {
          "data": {
            "image/png": "[encoded data removed]",
            "text/plain": [
              "<Figure size 1000x300 with 6 Axes>"
            ]
          },
          "metadata": {},
          "output_type": "display_data"
        }
      ],
      "source": [
        "n_samples_show = 6\n",
        "data_iter = iter(train_loader)\n",
        "fig, axes = plt.subplots(nrows=1, ncols=n_samples_show, figsize=(10, 3))\n",
        "\n",
        "for i in range(n_samples_show):\n",
        "    images, targets = next(data_iter)\n",
        "    axes[i].imshow(images[0].numpy().squeeze(), cmap='gray')\n",
        "    axes[i].set_xticks([])\n",
        "    axes[i].set_yticks([])\n",
        "    axes[i].set_title(f\"Labeled: {targets.item()}\")\n",
        "\n",
        "plt.tight_layout()\n",
        "plt.show()"
      ]
    },
    {
      "cell_type": "code",
      "execution_count": 14,
      "metadata": {},
      "outputs": [],
      "source": [
        "# Use a small, balanced dataset for easy overfitting and 100% accuracy\n",
        "n_samples = 50  # per class\n",
        "X_train = datasets.MNIST(\n",
        "    root='./data',\n",
        "    train=True,\n",
        "    download=True,\n",
        "    transform=transforms.Compose([transforms.ToTensor()])\n",
        ")\n",
        "\n",
        "# Filter only labels 0 and 1\n",
        "idx_0 = np.where(X_train.targets == 0)[0][:n_samples]\n",
        "idx_1 = np.where(X_train.targets == 1)[0][:n_samples]\n",
        "idx = np.concatenate([idx_0, idx_1])\n",
        "X_train.data = X_train.data[idx]\n",
        "X_train.targets = X_train.targets[idx]\n",
        "\n",
        "# Ensure targets are only 0 or 1\n",
        "assert set(X_train.targets.numpy()) == {0, 1}\n",
        "\n",
        "train_loader = torch.utils.data.DataLoader(X_train, batch_size=1, shuffle=True)"
      ]
    },
    {
      "cell_type": "code",
      "execution_count": 15,
      "metadata": {},
      "outputs": [],
      "source": [
        "import qiskit\n",
        "class Net(nn.Module):\n",
        "    def __init__(self):\n",
        "        super(Net, self).__init__()\n",
        "        self.conv1 = nn.Conv2d(1, 6, kernel_size=5)\n",
        "        self.conv2 = nn.Conv2d(6, 16, kernel_size=5)\n",
        "        self.dropout = nn.Dropout2d()\n",
        "        self.fcl = nn.Linear(256, 64)\n",
        "        self.fc2 = nn.Linear(64, 1)\n",
        "        self.hybrid = Hybrid(Aer.get_backend('aer_simulator'), 100, np.pi / 2)\n",
        "\n",
        "    def forward(self, x):\n",
        "        x = F.relu(self.conv1(x))\n",
        "        x = F.max_pool2d(x, 2)\n",
        "        x = F.relu(self.conv2(x))\n",
        "        x = F.max_pool2d(x, 2)\n",
        "        x = self.dropout(x)\n",
        "        x = x.view(x.size(0), -1)  # Fix: support batch size > 1\n",
        "        x = F.relu(self.fcl(x))\n",
        "        x = self.fc2(x)\n",
        "        x = self.hybrid(x)\n",
        "        # Output 2 classes for NLLLoss\n",
        "        x = torch.cat((x, -x), dim=1)\n",
        "        return F.log_softmax(x, dim=1)"
      ]
    },
    {
      "cell_type": "code",
      "execution_count": 16,
      "metadata": {},
      "outputs": [
        {
          "name": "stderr",
          "output_type": "stream",
          "text": [
            "C:\\Users\\anika\\AppData\\Local\\Temp\\ipykernel_19968\\973576013.py:16: UserWarning: Creating a tensor from a list of numpy.ndarrays is extremely slow. Please consider converting the list to a single numpy.ndarray with numpy.array() before converting to a tensor. (Triggered internally at C:\\actions-runner\\_work\\pytorch\\pytorch\\pytorch\\torch\\csrc\\utils\\tensor_new.cpp:257.)\n",
            "  result = torch.tensor(expectation_z, dtype=torch.float32).view_as(input)\n"
          ]
        },
        {
          "name": "stdout",
          "output_type": "stream",
          "text": [
            "Training [5%]\tLoss: 0.4530\tAccuracy: 84.00%\n",
            "Training [10%]\tLoss: 0.1902\tAccuracy: 99.00%\n",
            "Training [15%]\tLoss: 0.1815\tAccuracy: 100.00%\n",
            "Training [20%]\tLoss: 0.1612\tAccuracy: 100.00%\n",
            "Training [25%]\tLoss: 0.1721\tAccuracy: 100.00%\n",
            "Training [30%]\tLoss: 0.1647\tAccuracy: 100.00%\n",
            "Training [35%]\tLoss: 0.1889\tAccuracy: 100.00%\n",
            "Training [40%]\tLoss: 0.1802\tAccuracy: 100.00%\n",
            "Training [45%]\tLoss: 0.1498\tAccuracy: 100.00%\n",
            "Training [50%]\tLoss: 0.1599\tAccuracy: 100.00%\n",
            "Training [55%]\tLoss: 0.1508\tAccuracy: 100.00%\n",
            "Training [60%]\tLoss: 0.1505\tAccuracy: 100.00%\n",
            "Training [65%]\tLoss: 0.1585\tAccuracy: 99.00%\n",
            "Training [70%]\tLoss: 0.1517\tAccuracy: 100.00%\n",
            "Training [75%]\tLoss: 0.1469\tAccuracy: 100.00%\n",
            "Training [80%]\tLoss: 0.1458\tAccuracy: 100.00%\n",
            "Training [85%]\tLoss: 0.1551\tAccuracy: 100.00%\n",
            "Training [90%]\tLoss: 0.1554\tAccuracy: 100.00%\n",
            "Training [95%]\tLoss: 0.1511\tAccuracy: 100.00%\n",
            "Training [100%]\tLoss: 0.1398\tAccuracy: 100.00%\n"
          ]
        }
      ],
      "source": [
        "model = Net()\n",
        "optimizer = optim.Adam(model.parameters(), lr=0.001)\n",
        "loss_func = nn.NLLLoss()\n",
        "epochs = 20\n",
        "loss_list = []\n",
        "\n",
        "model.train()\n",
        "for epoch in range(epochs):\n",
        "    total_loss = []\n",
        "    correct = 0\n",
        "    total = 0\n",
        "    for batch_idx, (data, target) in enumerate(train_loader):\n",
        "        optimizer.zero_grad()\n",
        "        output = model(data)\n",
        "        loss = loss_func(output, target)\n",
        "        loss.backward()\n",
        "        optimizer.step()\n",
        "        total_loss.append(loss.item())\n",
        "        # Calculate accuracy\n",
        "        pred = output.argmax(dim=1, keepdim=True)\n",
        "        correct += pred.eq(target.view_as(pred)).sum().item()\n",
        "        total += data.size(0)\n",
        "    loss_list.append(sum(total_loss) / len(total_loss))\n",
        "    accuracy = 100. * correct / total\n",
        "    print('Training [{:.0f}%]\\tLoss: {:.4f}\\tAccuracy: {:.2f}%'.format(\n",
        "        100. * (epoch + 1) / epochs, loss_list[-1], accuracy))"
      ]
    },
    {
      "cell_type": "code",
      "execution_count": 17,
      "metadata": {},
      "outputs": [
        {
          "data": {
            "image/png": "[encoded data removed]",
            "text/plain": [
              "<Figure size 640x480 with 1 Axes>"
            ]
          },
          "metadata": {},
          "output_type": "display_data"
        }
      ],
      "source": [
        "plt.plot(loss_list)\n",
        "plt.title('Hybrid NN Training Convergence')\n",
        "plt.xlabel('Epochs')\n",
        "plt.ylabel('Negative Log Likelihood Loss')\n",
        "plt.show()"
      ]
    },
    {
      "cell_type": "code",
      "execution_count": 18,
      "metadata": {},
      "outputs": [],
      "source": [
        "#test loader\n",
        "n_samples = 50\n",
        "X_test = datasets.MNIST(root='./data', train=False, download=True, transform=transforms.Compose([transforms.ToTensor()]))\n",
        "\n",
        "# Filter for labels 0 and 1\n",
        "idx = np.append(\n",
        "    np.where(X_test.targets == 0)[0][:n_samples],\n",
        "    np.where(X_test.targets == 1)[0][:n_samples]\n",
        ")\n",
        "\n",
        "# Subset the data and targets\n",
        "X_test.data = X_test.data[idx]\n",
        "X_test.targets = X_test.targets[idx]\n",
        "\n",
        "# Create DataLoader\n",
        "test_loader = torch.utils.data.DataLoader(X_test, batch_size=1, shuffle=True)"
      ]
    },
    {
      "cell_type": "code",
      "execution_count": 19,
      "metadata": {},
      "outputs": [
        {
          "name": "stdout",
          "output_type": "stream",
          "text": [
            "Performance on test data:\n",
            "\tLoss: 0.1502\n",
            "\tAccuracy: 100.0%\n"
          ]
        }
      ],
      "source": [
        "model.eval()\n",
        "total_loss = []\n",
        "\n",
        "with torch.no_grad():\n",
        "    correct = 0\n",
        "    total = 0\n",
        "    for batch_idx, (data, target) in enumerate(test_loader):\n",
        "        output = model(data)\n",
        "        loss = loss_func(output, target)\n",
        "        total_loss.append(loss.item())\n",
        "        pred = output.argmax(dim=1, keepdim=True)\n",
        "        correct += pred.eq(target.view_as(pred)).sum().item()\n",
        "        total += data.size(0)\n",
        "\n",
        "    avg_loss = sum(total_loss) / len(total_loss)\n",
        "    accuracy = 100. * correct / total\n",
        "\n",
        "    print('Performance on test data:\\n\\tLoss: {:.4f}\\n\\tAccuracy: {:.1f}%'.format(avg_loss, accuracy))"
      ]
    },
    {
      "cell_type": "code",
      "execution_count": null,
      "metadata": {},
      "outputs": [],
      "source": [
        "n_samples_show = 6\n",
        "count = 0\n",
        "fig,axes = plt.subplots(nrows=1,ncols=n_samples_show,figsize=(10,3))\n",
        "model.eval()\n",
        "with torch.no_grad():\n",
        "  for batch_idx, (data, target) in enumerate(test_loader):\n",
        "    if count == n_samples_show:\n",
        "      break\n",
        "  output = model(data)\n",
        "  pred = output.argmax(dim=1,\n",
        "  keepdim=True)\n",
        "  axes[count].imshow(data[0].numpy().squeeze(), cmap='gray')\n",
        "  axes[count].set_xticks([])\n",
        "  axes[count].set_yticks([])\n",
        "  axes[count].set_title('Predicted {}'.format(pred.item()))\n",
        "  count += 1"
      ]
    },
    {
      "cell_type": "code",
      "execution_count": 20,
      "metadata": {},
      "outputs": [
        {
          "data": {
            "image/png": "[encoded data removed]",
            "text/plain": [
              "<Figure size 1000x300 with 6 Axes>"
            ]
          },
          "metadata": {},
          "output_type": "display_data"
        }
      ],
      "source": [
        "n_samples_show = 6\n",
        "count = 0\n",
        "fig, axes = plt.subplots(nrows=1, ncols=n_samples_show, figsize=(10, 3))\n",
        "model.eval()\n",
        "with torch.no_grad():\n",
        "    for batch_idx, (data, target) in enumerate(test_loader):\n",
        "        if count == n_samples_show:\n",
        "            break\n",
        "        output = model(data)\n",
        "        pred = output.argmax(dim=1, keepdim=True)\n",
        "        axes[count].imshow(data[0].numpy().squeeze(), cmap='gray')\n",
        "        axes[count].set_xticks([])\n",
        "        axes[count].set_yticks([])\n",
        "        axes[count].set_title('Predicted {}'.format(pred.item()))\n",
        "        count += 1\n",
        "plt.tight_layout()\n",
        "plt.show()"
      ]
    }
  ],
  "metadata": {
    "colab": {
      "authorship_tag": "ABX9TyPycnx65j+ZB1t6FePJraml",
      "include_colab_link": true,
      "provenance": []
    },
    "kernelspec": {
      "display_name": "base",
      "language": "python",
      "name": "python3"
    },
    "language_info": {
      "codemirror_mode": {
        "name": "ipython",
        "version": 3
      },
      "file_extension": ".py",
      "mimetype": "text/x-python",
      "name": "python",
      "nbconvert_exporter": "python",
      "pygments_lexer": "ipython3",
      "version": "3.12.7"
    }
  },
  "nbformat": 4,
  "nbformat_minor": 0
}
