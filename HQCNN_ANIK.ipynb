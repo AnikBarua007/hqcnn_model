{
  "nbformat": 4,
  "nbformat_minor": 0,
  "metadata": {
    "colab": {
      "provenance": [],
      "authorship_tag": "ABX9TyPycnx65j+ZB1t6FePJraml",
      "include_colab_link": true
    },
    "kernelspec": {
      "name": "python3",
      "display_name": "Python 3"
    },
    "language_info": {
      "name": "python"
    }
  },
  "cells": [
    {
      "cell_type": "markdown",
      "metadata": {
        "id": "view-in-github",
        "colab_type": "text"
      },
      "source": [
        "<a href=\"https://colab.research.google.com/github/AnikBarua007/hqcnn_model/blob/main/HQCNN_ANIK.ipynb\" target=\"_parent\"><img src=\"https://colab.research.google.com/assets/colab-badge.svg\" alt=\"Open In Colab\"/></a>"
      ]
    },
    {
      "cell_type": "code",
      "source": [
        "!pip install qiskit qiskit-aer imbalanced-learn scikit-learn\n",
        "!pip install pylatexenc"
      ],
      "metadata": {
        "colab": {
          "base_uri": "https://localhost:8080/"
        },
        "id": "HN8LQJy4zfOs",
        "outputId": "d55ef1cc-3d57-4f9f-ca61-b5a2b25cec6e"
      },
      "execution_count": 4,
      "outputs": [
        {
          "output_type": "stream",
          "name": "stdout",
          "text": [
            "Requirement already satisfied: qiskit in /usr/local/lib/python3.11/dist-packages (2.1.0)\n",
            "Requirement already satisfied: qiskit-aer in /usr/local/lib/python3.11/dist-packages (0.17.1)\n",
            "Requirement already satisfied: imbalanced-learn in /usr/local/lib/python3.11/dist-packages (0.13.0)\n",
            "Requirement already satisfied: scikit-learn in /usr/local/lib/python3.11/dist-packages (1.6.1)\n",
            "Requirement already satisfied: rustworkx>=0.15.0 in /usr/local/lib/python3.11/dist-packages (from qiskit) (0.16.0)\n",
            "Requirement already satisfied: numpy<3,>=1.17 in /usr/local/lib/python3.11/dist-packages (from qiskit) (2.0.2)\n",
            "Requirement already satisfied: scipy>=1.5 in /usr/local/lib/python3.11/dist-packages (from qiskit) (1.15.3)\n",
            "Requirement already satisfied: dill>=0.3 in /usr/local/lib/python3.11/dist-packages (from qiskit) (0.3.7)\n",
            "Requirement already satisfied: stevedore>=3.0.0 in /usr/local/lib/python3.11/dist-packages (from qiskit) (5.4.1)\n",
            "Requirement already satisfied: typing-extensions in /usr/local/lib/python3.11/dist-packages (from qiskit) (4.14.0)\n",
            "Requirement already satisfied: psutil>=5 in /usr/local/lib/python3.11/dist-packages (from qiskit-aer) (5.9.5)\n",
            "Requirement already satisfied: python-dateutil>=2.8.0 in /usr/local/lib/python3.11/dist-packages (from qiskit-aer) (2.9.0.post0)\n",
            "Requirement already satisfied: sklearn-compat<1,>=0.1 in /usr/local/lib/python3.11/dist-packages (from imbalanced-learn) (0.1.3)\n",
            "Requirement already satisfied: joblib<2,>=1.1.1 in /usr/local/lib/python3.11/dist-packages (from imbalanced-learn) (1.5.1)\n",
            "Requirement already satisfied: threadpoolctl<4,>=2.0.0 in /usr/local/lib/python3.11/dist-packages (from imbalanced-learn) (3.6.0)\n",
            "Requirement already satisfied: six>=1.5 in /usr/local/lib/python3.11/dist-packages (from python-dateutil>=2.8.0->qiskit-aer) (1.17.0)\n",
            "Requirement already satisfied: pbr>=2.0.0 in /usr/local/lib/python3.11/dist-packages (from stevedore>=3.0.0->qiskit) (6.1.1)\n",
            "Requirement already satisfied: setuptools in /usr/local/lib/python3.11/dist-packages (from pbr>=2.0.0->stevedore>=3.0.0->qiskit) (75.2.0)\n",
            "Requirement already satisfied: pylatexenc in /usr/local/lib/python3.11/dist-packages (2.10)\n"
          ]
        }
      ]
    },
    {
      "cell_type": "code",
      "source": [
        "!pip install qiskit qiskit-aer"
      ],
      "metadata": {
        "colab": {
          "base_uri": "https://localhost:8080/"
        },
        "id": "Hnlsg7tEoumY",
        "outputId": "b7f438b7-35e5-4754-8109-eba63866de5b"
      },
      "execution_count": 5,
      "outputs": [
        {
          "output_type": "stream",
          "name": "stdout",
          "text": [
            "Requirement already satisfied: qiskit in /usr/local/lib/python3.11/dist-packages (2.1.0)\n",
            "Requirement already satisfied: qiskit-aer in /usr/local/lib/python3.11/dist-packages (0.17.1)\n",
            "Requirement already satisfied: rustworkx>=0.15.0 in /usr/local/lib/python3.11/dist-packages (from qiskit) (0.16.0)\n",
            "Requirement already satisfied: numpy<3,>=1.17 in /usr/local/lib/python3.11/dist-packages (from qiskit) (2.0.2)\n",
            "Requirement already satisfied: scipy>=1.5 in /usr/local/lib/python3.11/dist-packages (from qiskit) (1.15.3)\n",
            "Requirement already satisfied: dill>=0.3 in /usr/local/lib/python3.11/dist-packages (from qiskit) (0.3.7)\n",
            "Requirement already satisfied: stevedore>=3.0.0 in /usr/local/lib/python3.11/dist-packages (from qiskit) (5.4.1)\n",
            "Requirement already satisfied: typing-extensions in /usr/local/lib/python3.11/dist-packages (from qiskit) (4.14.0)\n",
            "Requirement already satisfied: psutil>=5 in /usr/local/lib/python3.11/dist-packages (from qiskit-aer) (5.9.5)\n",
            "Requirement already satisfied: python-dateutil>=2.8.0 in /usr/local/lib/python3.11/dist-packages (from qiskit-aer) (2.9.0.post0)\n",
            "Requirement already satisfied: six>=1.5 in /usr/local/lib/python3.11/dist-packages (from python-dateutil>=2.8.0->qiskit-aer) (1.17.0)\n",
            "Requirement already satisfied: pbr>=2.0.0 in /usr/local/lib/python3.11/dist-packages (from stevedore>=3.0.0->qiskit) (6.1.1)\n",
            "Requirement already satisfied: setuptools in /usr/local/lib/python3.11/dist-packages (from pbr>=2.0.0->stevedore>=3.0.0->qiskit) (75.2.0)\n"
          ]
        }
      ]
    },
    {
      "cell_type": "code",
      "execution_count": 6,
      "metadata": {
        "id": "xfvzs7QSjfJF"
      },
      "outputs": [],
      "source": [
        "import numpy as np\n",
        "from IPython.display import Image\n",
        "import matplotlib.pyplot as plt\n"
      ]
    },
    {
      "cell_type": "code",
      "source": [],
      "metadata": {
        "id": "6ZLN2OkF8CrO"
      },
      "execution_count": 3,
      "outputs": []
    },
    {
      "cell_type": "markdown",
      "source": [],
      "metadata": {
        "id": "5aPjLAqDkTHJ"
      }
    },
    {
      "cell_type": "code",
      "source": [
        "import os\n",
        "import pandas as pd\n",
        "import numpy as np\n",
        "import matplotlib.pyplot as plt\n",
        "from sklearn.model_selection import train_test_split\n",
        "from tensorflow.keras.preprocessing.image import load_img, img_to_array\n",
        "import torch\n",
        "import torch.nn as nn\n",
        "import torch.nn.functional as F\n",
        "import torch.optim as optim\n",
        "from torch.utils.data import DataLoader, TensorDataset\n",
        "from torch.autograd import Function\n",
        "from qiskit import QuantumCircuit, transpile\n",
        "from qiskit.circuit import Parameter\n",
        "from qiskit_aer import AerSimulator, Aer\n",
        "from imblearn.over_sampling import ADASYN\n",
        "from google.colab import drive\n",
        "from sklearn.metrics import f1_score, precision_score, recall_score, roc_auc_score, classification_report\n"
      ],
      "metadata": {
        "id": "X0dFA9OkkRE2"
      },
      "execution_count": 7,
      "outputs": []
    },
    {
      "cell_type": "markdown",
      "source": [],
      "metadata": {
        "id": "8DRHRtl0pNC8"
      }
    },
    {
      "cell_type": "code",
      "source": [
        "import matplotlib.pyplot as plt\n",
        "from qiskit import QuantumCircuit, transpile\n",
        "from qiskit.circuit import Parameter\n",
        "from qiskit_aer import AerSimulator, Aer\n",
        "\n",
        "class MyQuantumCircuit:\n",
        "    def __init__(self, n_qubits, backend, shots):\n",
        "        self.n_qubits = n_qubits\n",
        "        self.backend = backend\n",
        "        self.shots = shots\n",
        "        all_qubits = [i for i in range(n_qubits)]\n",
        "        self.circuit = QuantumCircuit(n_qubits)\n",
        "        self.theta = Parameter(\"theta\")\n",
        "        self.circuit.h(all_qubits)\n",
        "        self.circuit.ry(self.theta, all_qubits)\n",
        "        self.circuit.measure_all()\n",
        "\n",
        "    def run(self, theta):\n",
        "     if isinstance(theta, (list, np.ndarray)):\n",
        "        theta = theta[0]\n",
        "\n",
        "     circuit = QuantumCircuit(self.n_qubits)\n",
        "     circuit.h(0)\n",
        "     circuit.ry(theta, 0)\n",
        "     circuit.measure_all()\n",
        "\n",
        "     transpiled_circuit = transpile(circuit, self.backend)\n",
        "     job = self.backend.run(transpiled_circuit, shots=self.shots)\n",
        "     result = job.result()\n",
        "     counts = result.get_counts()\n",
        "\n",
        "     counts_array = np.array(list(counts.values()))\n",
        "     states_array = np.array([int(state, 2) for state in counts.keys()])\n",
        "     probabilities = counts_array / self.shots\n",
        "     expectation = np.sum(states_array * probabilities)\n",
        "\n",
        "     return np.array([expectation], dtype=np.float32)  # ensure consistent dtype\n",
        "\n",
        "\n",
        "    def draw_circuit(self, theta):\n",
        "        circuit = QuantumCircuit(self.n_qubits)\n",
        "        circuit.h(0)\n",
        "        circuit.ry(theta, 0)\n",
        "        circuit.measure_all()\n",
        "        transpiled_circuit = transpile(circuit, AerSimulator())\n",
        "\n",
        "        job = AerSimulator().run(transpiled_circuit, shots=100)\n",
        "        result = job.result()\n",
        "        counts = result.get_counts(transpiled_circuit)\n",
        "        print(\"Counts:\", counts)\n",
        "\n",
        "        figure = circuit.draw(output='mpl', scale=0.8)\n",
        "        plt.show()\n",
        "        return figure\n",
        "\n",
        "quantum_circuit = MyQuantumCircuit(1, AerSimulator(), 100)\n",
        "print( 'Expected value for rotation pi {}'.format(quantum_circuit.run([np.pi])[0]))\n",
        "quantum_circuit.draw_circuit(np.pi / 2)"
      ],
      "metadata": {
        "colab": {
          "base_uri": "https://localhost:8080/",
          "height": 195
        },
        "id": "fH4OklWspN_i",
        "outputId": "b684a619-eef3-472f-a143-580636e56c16"
      },
      "execution_count": 8,
      "outputs": [
        {
          "output_type": "stream",
          "name": "stdout",
          "text": [
            "Expected value for rotation pi 0.4399999976158142\n",
            "Counts: {'1': 100}\n"
          ]
        },
        {
          "output_type": "execute_result",
          "data": {
            "text/plain": [
              "<Figure size 397.421x160.533 with 1 Axes>"
            ],
            "image/png": "[encoded data removed]"
          },
          "metadata": {},
          "execution_count": 8
        }
      ]
    },
    {
      "cell_type": "markdown",
      "source": [],
      "metadata": {
        "id": "gxXoIDyvp8VH"
      }
    },
    {
      "cell_type": "code",
      "source": [
        "class HybridFunction(Function):\n",
        "    @staticmethod\n",
        "    def forward(ctx, input, quantum_circuit, shift):\n",
        "        ctx.shift = shift\n",
        "        ctx.quantum_circuit = quantum_circuit\n",
        "        expectation_z = []\n",
        "\n",
        "        for sample in input:\n",
        "            # Run quantum circuit for each input\n",
        "            expectation_z.append(ctx.quantum_circuit.run([sample.item()]))\n",
        "\n",
        "        result = torch.tensor(expectation_z, dtype=torch.float32)\n",
        "        ctx.save_for_backward(input, result)\n",
        "        return result\n",
        "\n",
        "    @staticmethod\n",
        "    def backward(ctx, grad_output):\n",
        "      input, _ = ctx.saved_tensors\n",
        "      # expectationas z\n",
        "      input_list = input.tolist()  # This is a list of lists, like [[0.123], [0.456]]\n",
        "\n",
        "      gradients = []\n",
        "      for i in range(len(input_list)):\n",
        "        param = input_list[i][0]  # Unwrap the float from the inner list\n",
        "        shift_right = [param + ctx.shift]\n",
        "        shift_left = [param - ctx.shift]\n",
        "        expectation_right = ctx.quantum_circuit.run(shift_right)\n",
        "        expectation_left = ctx.quantum_circuit.run(shift_left)\n",
        "        gradient = (expectation_right - expectation_left) / (2 * ctx.shift)\n",
        "        gradients.append(gradient)\n",
        "\n",
        "      gradients = torch.tensor(gradients, dtype=torch.float32).view_as(input)\n",
        "      return gradients * grad_output, None, None"
      ],
      "metadata": {
        "id": "GzPIBpVL1Ici"
      },
      "execution_count": 9,
      "outputs": []
    },
    {
      "cell_type": "code",
      "source": [
        "class Hybrid(nn.Module):\n",
        "    def __init__(self, backend, shots, shift):\n",
        "        super(Hybrid, self).__init__()\n",
        "        self.quantum_circuit = MyQuantumCircuit(1, backend, shots)\n",
        "        self.shift = shift\n",
        "\n",
        "    def forward(self, input):\n",
        "        return HybridFunction.apply(input, self.quantum_circuit, self.shift)\n"
      ],
      "metadata": {
        "id": "9F28ip225Gc8"
      },
      "execution_count": 10,
      "outputs": []
    },
    {
      "cell_type": "code",
      "source": [
        "from torchvision import datasets, transforms"
      ],
      "metadata": {
        "id": "mn3uwQSS6h_6"
      },
      "execution_count": 12,
      "outputs": []
    },
    {
      "cell_type": "code",
      "source": [
        "# Concentrating on the first 100 samples\n",
        "n_samples = 100\n",
        "X_train = datasets.MNIST(root='./data',train=True,download=True,transform=transforms.Compose([transforms.ToTensor()]))\n",
        "# Leaving only labels 0 and 1\n",
        "idx = np.append(np.where(X_train.targets ==0)[0][:n_samples],np.where(X_train.targets ==1)[0][:n_samples])\n",
        "X_train.data = X_train.data[idx]\n",
        "X_train.targets = X_train.targets[idx]\n",
        "train_loader = torch.utils.data.DataLoader(X_train, batch_size=1, shuffle=True)"
      ],
      "metadata": {
        "id": "2fswMLyu5ZXD",
        "colab": {
          "base_uri": "https://localhost:8080/"
        },
        "outputId": "69a3d842-b248-4747-a846-d5892b6d10fb"
      },
      "execution_count": 13,
      "outputs": [
        {
          "output_type": "stream",
          "name": "stderr",
          "text": [
            "100%|██████████| 9.91M/9.91M [00:00<00:00, 36.5MB/s]\n",
            "100%|██████████| 28.9k/28.9k [00:00<00:00, 1.10MB/s]\n",
            "100%|██████████| 1.65M/1.65M [00:00<00:00, 9.68MB/s]\n",
            "100%|██████████| 4.54k/4.54k [00:00<00:00, 4.97MB/s]\n"
          ]
        }
      ]
    },
    {
      "cell_type": "code",
      "source": [
        "n_samples_show = 6\n",
        "data_iter = iter(train_loader)\n",
        "fig,axes=plt.subplots(nrows=1, ncols=n_samples_show,figsize=(10, 3))\n",
        "while n_samples_show > 0:\n",
        "\n",
        "  images, targets = data_iter.__next__()\n",
        "  axes[n_samples_show - 1].imshow(images[0].numpy().squeeze(), cmap='gray')\n",
        "  axes[n_samples_show -1].set_xticks([])\n",
        "  axes[n_samples_show -1].set_yticks([])\n",
        "  axes[n_samples_show - 1].set_title(\"Labeled:{}\".format(targets.item()))\n",
        "\n",
        "  n_samples_show -= 1"
      ],
      "metadata": {
        "colab": {
          "base_uri": "https://localhost:8080/",
          "height": 141
        },
        "id": "Ist6OBMN70CF",
        "outputId": "e1ed5582-bd40-484e-9213-92db0e09bd1a"
      },
      "execution_count": 14,
      "outputs": [
        {
          "output_type": "display_data",
          "data": {
            "text/plain": [
              "<Figure size 1000x300 with 6 Axes>"
            ],
            "image/png": "[encoded data removed]"
          },
          "metadata": {}
        }
      ]
    },
    {
      "cell_type": "code",
      "source": [
        "# Concentrating on the first 100 samples\n",
        "n_samples = 50\n",
        "X_train = datasets.MNIST(root='./data',train=True,download=True,transform=transforms.Compose([transforms.ToTensor()]))\n",
        "# Leaving only labels 0 and 1\n",
        "idx = np.append(np.where(X_train.targets ==0)[0][:n_samples],np.where(X_train.targets ==1)[0][:n_samples])\n",
        "X_train.data = X_train.data[idx]\n",
        "X_train.targets = X_train.targets[idx]\n",
        "train_loader = torch.utils.data.DataLoader(X_train, batch_size=1, shuffle=True)"
      ],
      "metadata": {
        "id": "Y8HQf2RB8X_L",
        "collapsed": true
      },
      "execution_count": 15,
      "outputs": []
    },
    {
      "cell_type": "code",
      "source": [
        "import qiskit\n",
        "class Net(nn.Module):\n",
        "    def __init__(self):\n",
        "        super(Net, self).__init__()\n",
        "        self.conv1 = nn.Conv2d(1, 6, kernel_size=5)\n",
        "        self.conv2 = nn.Conv2d(6, 16, kernel_size=5)\n",
        "        self.dropout = nn.Dropout2d()\n",
        "        self.fcl = nn.Linear(256, 64)\n",
        "        self.fc2 = nn.Linear(64, 1)\n",
        "        self.hybrid = Hybrid(Aer.get_backend('aer_simulator'), 100, np.pi / 2)\n",
        "\n",
        "    def forward(self, x):\n",
        "        x = F.relu(self.conv1(x))\n",
        "        x = F.max_pool2d(x, 2)\n",
        "        x = F.relu(self.conv2(x))\n",
        "        x = F.max_pool2d(x, 2)\n",
        "        x = self.dropout(x)\n",
        "        x = x.view(1, -1)\n",
        "        x = F.relu(self.fcl(x))\n",
        "        x = self.fc2(x)\n",
        "        x = self.hybrid(x)  # This must be a callable layer or function\n",
        "        return torch.cat((x, -1 * torch.ones_like(x), -x), -1)\n"
      ],
      "metadata": {
        "id": "ctzQsFnR8uYi",
        "collapsed": true
      },
      "execution_count": 16,
      "outputs": []
    },
    {
      "cell_type": "code",
      "source": [
        "model = Net()\n",
        "optimizer = optim.Adam(model.parameters(),lr=0.001)\n",
        "loss_func = nn.NLLLoss()\n",
        "epochs = 20\n",
        "loss_list = []\n",
        "model.train()\n",
        "for epoch in range(epochs):\n",
        "  total_loss =[]\n",
        "  for batch_idx, (data, target) in enumerate(train_loader):\n",
        "    optimizer.zero_grad()\n",
        "    # Forward pass\n",
        "    output = model(data)\n",
        "    # Calculating loss\n",
        "    loss = loss_func(output,target)\n",
        "     # Backward pass\n",
        "    loss.backward()\n",
        "    # Optimize the weights\n",
        "    optimizer.step()\n",
        "    total_loss.append(loss.item())\n",
        "  loss_list.append(sum(total_loss)/len(total_loss))\n",
        "  print('Training [{:.0f}%]\\tLoss:{:.4f}'.format(100. * (epoch + 1) / epochs, loss_list[-1]))"
      ],
      "metadata": {
        "colab": {
          "base_uri": "https://localhost:8080/"
        },
        "id": "oJwWvm3D-NwB",
        "outputId": "596eb275-3223-4af1-fdce-5dd6396743da",
        "collapsed": true
      },
      "execution_count": 21,
      "outputs": [
        {
          "output_type": "stream",
          "name": "stdout",
          "text": [
            "Training [5%]\tLoss:0.0867\n",
            "Training [10%]\tLoss:0.0268\n",
            "Training [15%]\tLoss:0.0284\n",
            "Training [20%]\tLoss:0.0230\n",
            "Training [25%]\tLoss:0.0192\n",
            "Training [30%]\tLoss:0.0167\n",
            "Training [35%]\tLoss:0.0184\n",
            "Training [40%]\tLoss:0.0197\n",
            "Training [45%]\tLoss:0.0146\n",
            "Training [50%]\tLoss:0.0127\n",
            "Training [55%]\tLoss:0.0066\n",
            "Training [60%]\tLoss:0.0088\n",
            "Training [65%]\tLoss:0.0057\n",
            "Training [70%]\tLoss:0.0082\n",
            "Training [75%]\tLoss:0.0055\n",
            "Training [80%]\tLoss:0.0031\n",
            "Training [85%]\tLoss:0.0028\n",
            "Training [90%]\tLoss:0.0029\n",
            "Training [95%]\tLoss:0.0036\n",
            "Training [100%]\tLoss:0.0024\n"
          ]
        }
      ]
    },
    {
      "cell_type": "code",
      "source": [
        "plt.plot(loss_list)\n",
        "plt.title('Hybrid NN Training Convergence')\n",
        "plt.xlabel('Training Iterations')\n",
        "plt.ylabel('Neg Log Likelihood Loss')"
      ],
      "metadata": {
        "id": "766qfIH4yboD",
        "colab": {
          "base_uri": "https://localhost:8080/",
          "height": 489
        },
        "outputId": "4cae7cea-46bc-4d37-b0be-aea24dbf4801"
      },
      "execution_count": 22,
      "outputs": [
        {
          "output_type": "execute_result",
          "data": {
            "text/plain": [
              "Text(0, 0.5, 'Neg Log Likelihood Loss')"
            ]
          },
          "metadata": {},
          "execution_count": 22
        },
        {
          "output_type": "display_data",
          "data": {
            "text/plain": [
              "<Figure size 640x480 with 1 Axes>"
            ],
            "image/png": "[encoded data removed]"
          },
          "metadata": {}
        }
      ]
    },
    {
      "cell_type": "code",
      "source": [
        "#test loader\n",
        "n_samples = 50\n",
        "X_test = datasets.MNIST(root='./data', train=False, download=True, transform=transforms.Compose([transforms.ToTensor()]))\n",
        "\n",
        "# Filter for labels 0 and 1\n",
        "idx = np.append(\n",
        "    np.where(X_test.targets == 0)[0][:n_samples],\n",
        "    np.where(X_test.targets == 1)[0][:n_samples]\n",
        ")\n",
        "\n",
        "# Subset the data and targets\n",
        "X_test.data = X_test.data[idx]\n",
        "X_test.targets = X_test.targets[idx]\n",
        "\n",
        "# Create DataLoader\n",
        "test_loader = torch.utils.data.DataLoader(X_test, batch_size=1, shuffle=True)"
      ],
      "metadata": {
        "id": "BUPWKuUeu19C"
      },
      "execution_count": 23,
      "outputs": []
    },
    {
      "cell_type": "code",
      "source": [
        "model.eval()\n",
        "total_loss = []  # Initialize total_loss before the loop\n",
        "\n",
        "with torch.no_grad():\n",
        "    correct = 0\n",
        "\n",
        "    for batch_idx, (data, target) in enumerate(test_loader):\n",
        "        output = model(data)\n",
        "        pred = output.argmax(dim=1, keepdim=True)\n",
        "        correct += pred.eq(target.view_as(pred)).sum().item()\n",
        "\n",
        "        loss = loss_func(output, target)\n",
        "        total_loss.append(loss.item())\n",
        "\n",
        "    avg_loss = sum(total_loss) / len(total_loss)\n",
        "    accuracy = correct / len(test_loader) * 100\n",
        "\n",
        "    print('Performance on test data:\\n\\tLoss: {:.4f}\\n\\tAccuracy: {:.1f}%'.format(avg_loss, accuracy))\n"
      ],
      "metadata": {
        "id": "6C8sB31symio",
        "colab": {
          "base_uri": "https://localhost:8080/"
        },
        "outputId": "2fe22050-d025-46b3-dc1e-cceef96711cf"
      },
      "execution_count": 24,
      "outputs": [
        {
          "output_type": "stream",
          "name": "stdout",
          "text": [
            "Performance on test data:\n",
            "\tLoss: 0.0112\n",
            "\tAccuracy: 50.0%\n"
          ]
        }
      ]
    },
    {
      "cell_type": "code",
      "source": [
        "n_samples_show = 6\n",
        "count = 0\n",
        "fig,axes = plt.subplots(nrows=1,ncols=n_samples_show,figsize=(10,3))\n",
        "model.eval()\n",
        "with torch.no_grad():\n",
        "  for batch_idx, (data, target) in enumerate(test_loader):\n",
        "    if count == n_samples_show:\n",
        "      break\n",
        "  output = model(data)\n",
        "  pred = output.argmax(dim=1,\n",
        "  keepdim=True)\n",
        "  axes[count].imshow(data[0].numpy().squeeze(), cmap='gray')\n",
        "  axes[count].set_xticks([])\n",
        "  axes[count].set_yticks([])\n",
        "  axes[count].set_title('Predicted {}'.format(pred.item()))\n",
        "  count += 1"
      ],
      "metadata": {
        "id": "HfVkSJoUyqs5",
        "colab": {
          "base_uri": "https://localhost:8080/",
          "height": 241
        },
        "outputId": "9fa3bb72-eeda-4cb6-e8d3-58627648761a"
      },
      "execution_count": 25,
      "outputs": [
        {
          "output_type": "display_data",
          "data": {
            "text/plain": [
              "<Figure size 1000x300 with 6 Axes>"
            ],
            "image/png": "[encoded data removed]"
          },
          "metadata": {}
        }
      ]
    },
    {
      "cell_type": "code",
      "source": [],
      "metadata": {
        "id": "vHq9GDH4ytiF"
      },
      "execution_count": 17,
      "outputs": []
    }
  ]
}